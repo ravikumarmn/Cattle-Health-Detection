{
 "cells": [
  {
   "cell_type": "code",
   "execution_count": 1,
   "metadata": {},
   "outputs": [],
   "source": [
    "import pandas as pd\n",
    "import plotly.express as px"
   ]
  },
  {
   "cell_type": "code",
   "execution_count": 2,
   "metadata": {},
   "outputs": [
    {
     "data": {
      "text/html": [
       "<div>\n",
       "<style scoped>\n",
       "    .dataframe tbody tr th:only-of-type {\n",
       "        vertical-align: middle;\n",
       "    }\n",
       "\n",
       "    .dataframe tbody tr th {\n",
       "        vertical-align: top;\n",
       "    }\n",
       "\n",
       "    .dataframe thead th {\n",
       "        text-align: right;\n",
       "    }\n",
       "</style>\n",
       "<table border=\"1\" class=\"dataframe\">\n",
       "  <thead>\n",
       "    <tr style=\"text-align: right;\">\n",
       "      <th></th>\n",
       "      <th>id</th>\n",
       "      <th>Age</th>\n",
       "      <th>Weight</th>\n",
       "      <th>Body condition score</th>\n",
       "      <th>Temperature</th>\n",
       "      <th>Heart rate</th>\n",
       "      <th>Respiratory Rate</th>\n",
       "      <th>Milk Yield</th>\n",
       "      <th>Mastitis Score</th>\n",
       "      <th>Disease</th>\n",
       "    </tr>\n",
       "  </thead>\n",
       "  <tbody>\n",
       "    <tr>\n",
       "      <th>0</th>\n",
       "      <td>1</td>\n",
       "      <td>1 year</td>\n",
       "      <td>407</td>\n",
       "      <td>5</td>\n",
       "      <td>37.8</td>\n",
       "      <td>66</td>\n",
       "      <td>0.98</td>\n",
       "      <td>5.1</td>\n",
       "      <td>9.94</td>\n",
       "      <td>Bovine Respiratory Disease</td>\n",
       "    </tr>\n",
       "    <tr>\n",
       "      <th>1</th>\n",
       "      <td>2</td>\n",
       "      <td>5 years</td>\n",
       "      <td>294</td>\n",
       "      <td>5</td>\n",
       "      <td>38.4</td>\n",
       "      <td>82</td>\n",
       "      <td>54.65</td>\n",
       "      <td>4.6</td>\n",
       "      <td>0.39</td>\n",
       "      <td>Bovine Viral Diarrhea</td>\n",
       "    </tr>\n",
       "    <tr>\n",
       "      <th>2</th>\n",
       "      <td>3</td>\n",
       "      <td>3 years</td>\n",
       "      <td>304</td>\n",
       "      <td>5</td>\n",
       "      <td>39.6</td>\n",
       "      <td>67</td>\n",
       "      <td>71.85</td>\n",
       "      <td>2.7</td>\n",
       "      <td>9.96</td>\n",
       "      <td>Foot and Mouth Disease</td>\n",
       "    </tr>\n",
       "    <tr>\n",
       "      <th>3</th>\n",
       "      <td>4</td>\n",
       "      <td>3 years</td>\n",
       "      <td>408</td>\n",
       "      <td>4</td>\n",
       "      <td>38.1</td>\n",
       "      <td>73</td>\n",
       "      <td>67.79</td>\n",
       "      <td>2.2</td>\n",
       "      <td>5.80</td>\n",
       "      <td>Bovine Tuberculosis</td>\n",
       "    </tr>\n",
       "    <tr>\n",
       "      <th>4</th>\n",
       "      <td>5</td>\n",
       "      <td>3 years</td>\n",
       "      <td>276</td>\n",
       "      <td>3</td>\n",
       "      <td>39.7</td>\n",
       "      <td>64</td>\n",
       "      <td>26.36</td>\n",
       "      <td>5.4</td>\n",
       "      <td>8.77</td>\n",
       "      <td>Ringworm</td>\n",
       "    </tr>\n",
       "  </tbody>\n",
       "</table>\n",
       "</div>"
      ],
      "text/plain": [
       "   id      Age  Weight  Body condition score   Temperature   Heart rate  \\\n",
       "0   1   1 year     407                      5          37.8          66   \n",
       "1   2  5 years     294                      5          38.4          82   \n",
       "2   3  3 years     304                      5          39.6          67   \n",
       "3   4  3 years     408                      4          38.1          73   \n",
       "4   5  3 years     276                      3          39.7          64   \n",
       "\n",
       "   Respiratory Rate  Milk Yield  Mastitis Score                     Disease  \n",
       "0              0.98         5.1            9.94  Bovine Respiratory Disease  \n",
       "1             54.65         4.6            0.39       Bovine Viral Diarrhea  \n",
       "2             71.85         2.7            9.96      Foot and Mouth Disease  \n",
       "3             67.79         2.2            5.80         Bovine Tuberculosis  \n",
       "4             26.36         5.4            8.77                    Ringworm  "
      ]
     },
     "execution_count": 2,
     "metadata": {},
     "output_type": "execute_result"
    }
   ],
   "source": [
    "dataset_1 = pd.read_csv(\"/home/ravikumar/freelance/machine_learning/cattle_health/dataset/Dataset1.csv\")\n",
    "dataset_1.head()"
   ]
  },
  {
   "cell_type": "code",
   "execution_count": 3,
   "metadata": {},
   "outputs": [
    {
     "data": {
      "text/html": [
       "<div>\n",
       "<style scoped>\n",
       "    .dataframe tbody tr th:only-of-type {\n",
       "        vertical-align: middle;\n",
       "    }\n",
       "\n",
       "    .dataframe tbody tr th {\n",
       "        vertical-align: top;\n",
       "    }\n",
       "\n",
       "    .dataframe thead th {\n",
       "        text-align: right;\n",
       "    }\n",
       "</style>\n",
       "<table border=\"1\" class=\"dataframe\">\n",
       "  <thead>\n",
       "    <tr style=\"text-align: right;\">\n",
       "      <th></th>\n",
       "      <th>id</th>\n",
       "      <th>Age</th>\n",
       "      <th>Weight</th>\n",
       "      <th>Body condition score</th>\n",
       "      <th>Temperature</th>\n",
       "      <th>Heart rate</th>\n",
       "      <th>Respiratory Rate</th>\n",
       "      <th>Milk Yield</th>\n",
       "      <th>Mastitis Score</th>\n",
       "      <th>Disease</th>\n",
       "    </tr>\n",
       "  </thead>\n",
       "  <tbody>\n",
       "    <tr>\n",
       "      <th>0</th>\n",
       "      <td>1</td>\n",
       "      <td>1 year</td>\n",
       "      <td>407</td>\n",
       "      <td>5</td>\n",
       "      <td>37.8</td>\n",
       "      <td>66</td>\n",
       "      <td>0.98</td>\n",
       "      <td>5.1</td>\n",
       "      <td>9.94</td>\n",
       "      <td>Bovine Respiratory Disease</td>\n",
       "    </tr>\n",
       "    <tr>\n",
       "      <th>1</th>\n",
       "      <td>2</td>\n",
       "      <td>5 years</td>\n",
       "      <td>294</td>\n",
       "      <td>5</td>\n",
       "      <td>38.4</td>\n",
       "      <td>82</td>\n",
       "      <td>54.65</td>\n",
       "      <td>4.6</td>\n",
       "      <td>0.39</td>\n",
       "      <td>Bovine Viral Diarrhea</td>\n",
       "    </tr>\n",
       "    <tr>\n",
       "      <th>2</th>\n",
       "      <td>3</td>\n",
       "      <td>3 years</td>\n",
       "      <td>304</td>\n",
       "      <td>5</td>\n",
       "      <td>39.6</td>\n",
       "      <td>67</td>\n",
       "      <td>71.85</td>\n",
       "      <td>2.7</td>\n",
       "      <td>9.96</td>\n",
       "      <td>Foot and Mouth Disease</td>\n",
       "    </tr>\n",
       "    <tr>\n",
       "      <th>3</th>\n",
       "      <td>4</td>\n",
       "      <td>3 years</td>\n",
       "      <td>408</td>\n",
       "      <td>4</td>\n",
       "      <td>38.1</td>\n",
       "      <td>73</td>\n",
       "      <td>67.79</td>\n",
       "      <td>2.2</td>\n",
       "      <td>5.80</td>\n",
       "      <td>Bovine Tuberculosis</td>\n",
       "    </tr>\n",
       "    <tr>\n",
       "      <th>4</th>\n",
       "      <td>5</td>\n",
       "      <td>3 years</td>\n",
       "      <td>276</td>\n",
       "      <td>3</td>\n",
       "      <td>39.7</td>\n",
       "      <td>64</td>\n",
       "      <td>26.36</td>\n",
       "      <td>5.4</td>\n",
       "      <td>8.77</td>\n",
       "      <td>Ringworm</td>\n",
       "    </tr>\n",
       "    <tr>\n",
       "      <th>...</th>\n",
       "      <td>...</td>\n",
       "      <td>...</td>\n",
       "      <td>...</td>\n",
       "      <td>...</td>\n",
       "      <td>...</td>\n",
       "      <td>...</td>\n",
       "      <td>...</td>\n",
       "      <td>...</td>\n",
       "      <td>...</td>\n",
       "      <td>...</td>\n",
       "    </tr>\n",
       "    <tr>\n",
       "      <th>995</th>\n",
       "      <td>996</td>\n",
       "      <td>5 years</td>\n",
       "      <td>263</td>\n",
       "      <td>4</td>\n",
       "      <td>37.6</td>\n",
       "      <td>64</td>\n",
       "      <td>57.60</td>\n",
       "      <td>4.1</td>\n",
       "      <td>4.19</td>\n",
       "      <td>Blue Tongue</td>\n",
       "    </tr>\n",
       "    <tr>\n",
       "      <th>996</th>\n",
       "      <td>997</td>\n",
       "      <td>7 years</td>\n",
       "      <td>259</td>\n",
       "      <td>3</td>\n",
       "      <td>38.6</td>\n",
       "      <td>55</td>\n",
       "      <td>55.18</td>\n",
       "      <td>3.4</td>\n",
       "      <td>4.49</td>\n",
       "      <td>Blue Tongue</td>\n",
       "    </tr>\n",
       "    <tr>\n",
       "      <th>997</th>\n",
       "      <td>998</td>\n",
       "      <td>6 years</td>\n",
       "      <td>310</td>\n",
       "      <td>3</td>\n",
       "      <td>37.5</td>\n",
       "      <td>56</td>\n",
       "      <td>58.06</td>\n",
       "      <td>4.9</td>\n",
       "      <td>5.33</td>\n",
       "      <td>Anthrax</td>\n",
       "    </tr>\n",
       "    <tr>\n",
       "      <th>998</th>\n",
       "      <td>999</td>\n",
       "      <td>2 years</td>\n",
       "      <td>420</td>\n",
       "      <td>5</td>\n",
       "      <td>38.9</td>\n",
       "      <td>51</td>\n",
       "      <td>13.75</td>\n",
       "      <td>4.8</td>\n",
       "      <td>0.75</td>\n",
       "      <td>Bovine Viral Diarrhea</td>\n",
       "    </tr>\n",
       "    <tr>\n",
       "      <th>999</th>\n",
       "      <td>1000</td>\n",
       "      <td>4 years</td>\n",
       "      <td>276</td>\n",
       "      <td>2</td>\n",
       "      <td>37.9</td>\n",
       "      <td>57</td>\n",
       "      <td>24.32</td>\n",
       "      <td>2.4</td>\n",
       "      <td>2.61</td>\n",
       "      <td>Leptospirosis</td>\n",
       "    </tr>\n",
       "  </tbody>\n",
       "</table>\n",
       "<p>1000 rows × 10 columns</p>\n",
       "</div>"
      ],
      "text/plain": [
       "       id      Age  Weight  Body condition score   Temperature   Heart rate  \\\n",
       "0       1   1 year     407                      5          37.8          66   \n",
       "1       2  5 years     294                      5          38.4          82   \n",
       "2       3  3 years     304                      5          39.6          67   \n",
       "3       4  3 years     408                      4          38.1          73   \n",
       "4       5  3 years     276                      3          39.7          64   \n",
       "..    ...      ...     ...                    ...           ...         ...   \n",
       "995   996  5 years     263                      4          37.6          64   \n",
       "996   997  7 years     259                      3          38.6          55   \n",
       "997   998  6 years     310                      3          37.5          56   \n",
       "998   999  2 years     420                      5          38.9          51   \n",
       "999  1000  4 years     276                      2          37.9          57   \n",
       "\n",
       "     Respiratory Rate  Milk Yield  Mastitis Score                     Disease  \n",
       "0                0.98         5.1            9.94  Bovine Respiratory Disease  \n",
       "1               54.65         4.6            0.39       Bovine Viral Diarrhea  \n",
       "2               71.85         2.7            9.96      Foot and Mouth Disease  \n",
       "3               67.79         2.2            5.80         Bovine Tuberculosis  \n",
       "4               26.36         5.4            8.77                    Ringworm  \n",
       "..                ...         ...             ...                         ...  \n",
       "995             57.60         4.1            4.19                 Blue Tongue  \n",
       "996             55.18         3.4            4.49                 Blue Tongue  \n",
       "997             58.06         4.9            5.33                     Anthrax  \n",
       "998             13.75         4.8            0.75       Bovine Viral Diarrhea  \n",
       "999             24.32         2.4            2.61               Leptospirosis  \n",
       "\n",
       "[1000 rows x 10 columns]"
      ]
     },
     "execution_count": 3,
     "metadata": {},
     "output_type": "execute_result"
    }
   ],
   "source": [
    "dataset_1"
   ]
  },
  {
   "cell_type": "code",
   "execution_count": 4,
   "metadata": {},
   "outputs": [
    {
     "data": {
      "text/plain": [
       "dict_keys([('Brucellosis',), ('Bovine Respiratory Disease',), ('Healthy',), ('Infectious Bovine Rhinotracheitis',), ('Ringworm',), ('Bovine Viral Diarrhea',), ('Blue Tongue',), (\"Johne's Disease\",), ('Mastitis',), ('Foot and Mouth Disease',), ('Leptospirosis',), ('Anthrax',), ('Bovine Tuberculosis',), ('Salmonella',)])"
      ]
     },
     "execution_count": 4,
     "metadata": {},
     "output_type": "execute_result"
    }
   ],
   "source": [
    "dataset_1[[\"Disease\"]].value_counts().to_dict().keys()"
   ]
  },
  {
   "cell_type": "code",
   "execution_count": 5,
   "metadata": {},
   "outputs": [],
   "source": [
    "df_plot = pd.DataFrame(dataset_1[\"Disease\"].value_counts()).reset_index()"
   ]
  },
  {
   "cell_type": "code",
   "execution_count": 6,
   "metadata": {},
   "outputs": [
    {
     "data": {
      "text/plain": [
       "Index(['index', 'Disease'], dtype='object')"
      ]
     },
     "execution_count": 6,
     "metadata": {},
     "output_type": "execute_result"
    }
   ],
   "source": [
    "df_plot.columns"
   ]
  },
  {
   "cell_type": "code",
   "execution_count": 7,
   "metadata": {},
   "outputs": [
    {
     "data": {
      "application/vnd.plotly.v1+json": {
       "config": {
        "plotlyServerURL": "https://plot.ly"
       },
       "data": [
        {
         "alignmentgroup": "True",
         "hovertemplate": "index=%{x}<br>Disease=%{y}<extra></extra>",
         "legendgroup": "Brucellosis",
         "marker": {
          "color": "#636efa",
          "pattern": {
           "shape": ""
          }
         },
         "name": "Brucellosis",
         "offsetgroup": "Brucellosis",
         "orientation": "v",
         "showlegend": true,
         "textposition": "auto",
         "type": "bar",
         "x": [
          "Brucellosis"
         ],
         "xaxis": "x",
         "y": [
          83
         ],
         "yaxis": "y"
        },
        {
         "alignmentgroup": "True",
         "hovertemplate": "index=%{x}<br>Disease=%{y}<extra></extra>",
         "legendgroup": "Bovine Respiratory Disease",
         "marker": {
          "color": "#EF553B",
          "pattern": {
           "shape": ""
          }
         },
         "name": "Bovine Respiratory Disease",
         "offsetgroup": "Bovine Respiratory Disease",
         "orientation": "v",
         "showlegend": true,
         "textposition": "auto",
         "type": "bar",
         "x": [
          "Bovine Respiratory Disease"
         ],
         "xaxis": "x",
         "y": [
          77
         ],
         "yaxis": "y"
        },
        {
         "alignmentgroup": "True",
         "hovertemplate": "index=%{x}<br>Disease=%{y}<extra></extra>",
         "legendgroup": "Healthy",
         "marker": {
          "color": "#00cc96",
          "pattern": {
           "shape": ""
          }
         },
         "name": "Healthy",
         "offsetgroup": "Healthy",
         "orientation": "v",
         "showlegend": true,
         "textposition": "auto",
         "type": "bar",
         "x": [
          "Healthy"
         ],
         "xaxis": "x",
         "y": [
          77
         ],
         "yaxis": "y"
        },
        {
         "alignmentgroup": "True",
         "hovertemplate": "index=%{x}<br>Disease=%{y}<extra></extra>",
         "legendgroup": "Infectious Bovine Rhinotracheitis",
         "marker": {
          "color": "#ab63fa",
          "pattern": {
           "shape": ""
          }
         },
         "name": "Infectious Bovine Rhinotracheitis",
         "offsetgroup": "Infectious Bovine Rhinotracheitis",
         "orientation": "v",
         "showlegend": true,
         "textposition": "auto",
         "type": "bar",
         "x": [
          "Infectious Bovine Rhinotracheitis"
         ],
         "xaxis": "x",
         "y": [
          77
         ],
         "yaxis": "y"
        },
        {
         "alignmentgroup": "True",
         "hovertemplate": "index=%{x}<br>Disease=%{y}<extra></extra>",
         "legendgroup": "Ringworm",
         "marker": {
          "color": "#FFA15A",
          "pattern": {
           "shape": ""
          }
         },
         "name": "Ringworm",
         "offsetgroup": "Ringworm",
         "orientation": "v",
         "showlegend": true,
         "textposition": "auto",
         "type": "bar",
         "x": [
          "Ringworm"
         ],
         "xaxis": "x",
         "y": [
          75
         ],
         "yaxis": "y"
        },
        {
         "alignmentgroup": "True",
         "hovertemplate": "index=%{x}<br>Disease=%{y}<extra></extra>",
         "legendgroup": "Bovine Viral Diarrhea",
         "marker": {
          "color": "#19d3f3",
          "pattern": {
           "shape": ""
          }
         },
         "name": "Bovine Viral Diarrhea",
         "offsetgroup": "Bovine Viral Diarrhea",
         "orientation": "v",
         "showlegend": true,
         "textposition": "auto",
         "type": "bar",
         "x": [
          "Bovine Viral Diarrhea"
         ],
         "xaxis": "x",
         "y": [
          74
         ],
         "yaxis": "y"
        },
        {
         "alignmentgroup": "True",
         "hovertemplate": "index=%{x}<br>Disease=%{y}<extra></extra>",
         "legendgroup": "Johne's Disease",
         "marker": {
          "color": "#FF6692",
          "pattern": {
           "shape": ""
          }
         },
         "name": "Johne's Disease",
         "offsetgroup": "Johne's Disease",
         "orientation": "v",
         "showlegend": true,
         "textposition": "auto",
         "type": "bar",
         "x": [
          "Johne's Disease"
         ],
         "xaxis": "x",
         "y": [
          73
         ],
         "yaxis": "y"
        },
        {
         "alignmentgroup": "True",
         "hovertemplate": "index=%{x}<br>Disease=%{y}<extra></extra>",
         "legendgroup": "Blue Tongue",
         "marker": {
          "color": "#B6E880",
          "pattern": {
           "shape": ""
          }
         },
         "name": "Blue Tongue",
         "offsetgroup": "Blue Tongue",
         "orientation": "v",
         "showlegend": true,
         "textposition": "auto",
         "type": "bar",
         "x": [
          "Blue Tongue"
         ],
         "xaxis": "x",
         "y": [
          73
         ],
         "yaxis": "y"
        },
        {
         "alignmentgroup": "True",
         "hovertemplate": "index=%{x}<br>Disease=%{y}<extra></extra>",
         "legendgroup": "Mastitis",
         "marker": {
          "color": "#FF97FF",
          "pattern": {
           "shape": ""
          }
         },
         "name": "Mastitis",
         "offsetgroup": "Mastitis",
         "orientation": "v",
         "showlegend": true,
         "textposition": "auto",
         "type": "bar",
         "x": [
          "Mastitis"
         ],
         "xaxis": "x",
         "y": [
          70
         ],
         "yaxis": "y"
        },
        {
         "alignmentgroup": "True",
         "hovertemplate": "index=%{x}<br>Disease=%{y}<extra></extra>",
         "legendgroup": "Foot and Mouth Disease",
         "marker": {
          "color": "#FECB52",
          "pattern": {
           "shape": ""
          }
         },
         "name": "Foot and Mouth Disease",
         "offsetgroup": "Foot and Mouth Disease",
         "orientation": "v",
         "showlegend": true,
         "textposition": "auto",
         "type": "bar",
         "x": [
          "Foot and Mouth Disease"
         ],
         "xaxis": "x",
         "y": [
          67
         ],
         "yaxis": "y"
        },
        {
         "alignmentgroup": "True",
         "hovertemplate": "index=%{x}<br>Disease=%{y}<extra></extra>",
         "legendgroup": "Leptospirosis",
         "marker": {
          "color": "#636efa",
          "pattern": {
           "shape": ""
          }
         },
         "name": "Leptospirosis",
         "offsetgroup": "Leptospirosis",
         "orientation": "v",
         "showlegend": true,
         "textposition": "auto",
         "type": "bar",
         "x": [
          "Leptospirosis"
         ],
         "xaxis": "x",
         "y": [
          67
         ],
         "yaxis": "y"
        },
        {
         "alignmentgroup": "True",
         "hovertemplate": "index=%{x}<br>Disease=%{y}<extra></extra>",
         "legendgroup": "Anthrax",
         "marker": {
          "color": "#EF553B",
          "pattern": {
           "shape": ""
          }
         },
         "name": "Anthrax",
         "offsetgroup": "Anthrax",
         "orientation": "v",
         "showlegend": true,
         "textposition": "auto",
         "type": "bar",
         "x": [
          "Anthrax"
         ],
         "xaxis": "x",
         "y": [
          65
         ],
         "yaxis": "y"
        },
        {
         "alignmentgroup": "True",
         "hovertemplate": "index=%{x}<br>Disease=%{y}<extra></extra>",
         "legendgroup": "Bovine Tuberculosis",
         "marker": {
          "color": "#00cc96",
          "pattern": {
           "shape": ""
          }
         },
         "name": "Bovine Tuberculosis",
         "offsetgroup": "Bovine Tuberculosis",
         "orientation": "v",
         "showlegend": true,
         "textposition": "auto",
         "type": "bar",
         "x": [
          "Bovine Tuberculosis"
         ],
         "xaxis": "x",
         "y": [
          63
         ],
         "yaxis": "y"
        },
        {
         "alignmentgroup": "True",
         "hovertemplate": "index=%{x}<br>Disease=%{y}<extra></extra>",
         "legendgroup": "Salmonella",
         "marker": {
          "color": "#ab63fa",
          "pattern": {
           "shape": ""
          }
         },
         "name": "Salmonella",
         "offsetgroup": "Salmonella",
         "orientation": "v",
         "showlegend": true,
         "textposition": "auto",
         "type": "bar",
         "x": [
          "Salmonella"
         ],
         "xaxis": "x",
         "y": [
          59
         ],
         "yaxis": "y"
        }
       ],
       "layout": {
        "barmode": "relative",
        "legend": {
         "title": {
          "text": "index"
         },
         "tracegroupgap": 0
        },
        "margin": {
         "t": 60
        },
        "template": {
         "data": {
          "bar": [
           {
            "error_x": {
             "color": "#2a3f5f"
            },
            "error_y": {
             "color": "#2a3f5f"
            },
            "marker": {
             "line": {
              "color": "#E5ECF6",
              "width": 0.5
             },
             "pattern": {
              "fillmode": "overlay",
              "size": 10,
              "solidity": 0.2
             }
            },
            "type": "bar"
           }
          ],
          "barpolar": [
           {
            "marker": {
             "line": {
              "color": "#E5ECF6",
              "width": 0.5
             },
             "pattern": {
              "fillmode": "overlay",
              "size": 10,
              "solidity": 0.2
             }
            },
            "type": "barpolar"
           }
          ],
          "carpet": [
           {
            "aaxis": {
             "endlinecolor": "#2a3f5f",
             "gridcolor": "white",
             "linecolor": "white",
             "minorgridcolor": "white",
             "startlinecolor": "#2a3f5f"
            },
            "baxis": {
             "endlinecolor": "#2a3f5f",
             "gridcolor": "white",
             "linecolor": "white",
             "minorgridcolor": "white",
             "startlinecolor": "#2a3f5f"
            },
            "type": "carpet"
           }
          ],
          "choropleth": [
           {
            "colorbar": {
             "outlinewidth": 0,
             "ticks": ""
            },
            "type": "choropleth"
           }
          ],
          "contour": [
           {
            "colorbar": {
             "outlinewidth": 0,
             "ticks": ""
            },
            "colorscale": [
             [
              0,
              "#0d0887"
             ],
             [
              0.1111111111111111,
              "#46039f"
             ],
             [
              0.2222222222222222,
              "#7201a8"
             ],
             [
              0.3333333333333333,
              "#9c179e"
             ],
             [
              0.4444444444444444,
              "#bd3786"
             ],
             [
              0.5555555555555556,
              "#d8576b"
             ],
             [
              0.6666666666666666,
              "#ed7953"
             ],
             [
              0.7777777777777778,
              "#fb9f3a"
             ],
             [
              0.8888888888888888,
              "#fdca26"
             ],
             [
              1,
              "#f0f921"
             ]
            ],
            "type": "contour"
           }
          ],
          "contourcarpet": [
           {
            "colorbar": {
             "outlinewidth": 0,
             "ticks": ""
            },
            "type": "contourcarpet"
           }
          ],
          "heatmap": [
           {
            "colorbar": {
             "outlinewidth": 0,
             "ticks": ""
            },
            "colorscale": [
             [
              0,
              "#0d0887"
             ],
             [
              0.1111111111111111,
              "#46039f"
             ],
             [
              0.2222222222222222,
              "#7201a8"
             ],
             [
              0.3333333333333333,
              "#9c179e"
             ],
             [
              0.4444444444444444,
              "#bd3786"
             ],
             [
              0.5555555555555556,
              "#d8576b"
             ],
             [
              0.6666666666666666,
              "#ed7953"
             ],
             [
              0.7777777777777778,
              "#fb9f3a"
             ],
             [
              0.8888888888888888,
              "#fdca26"
             ],
             [
              1,
              "#f0f921"
             ]
            ],
            "type": "heatmap"
           }
          ],
          "heatmapgl": [
           {
            "colorbar": {
             "outlinewidth": 0,
             "ticks": ""
            },
            "colorscale": [
             [
              0,
              "#0d0887"
             ],
             [
              0.1111111111111111,
              "#46039f"
             ],
             [
              0.2222222222222222,
              "#7201a8"
             ],
             [
              0.3333333333333333,
              "#9c179e"
             ],
             [
              0.4444444444444444,
              "#bd3786"
             ],
             [
              0.5555555555555556,
              "#d8576b"
             ],
             [
              0.6666666666666666,
              "#ed7953"
             ],
             [
              0.7777777777777778,
              "#fb9f3a"
             ],
             [
              0.8888888888888888,
              "#fdca26"
             ],
             [
              1,
              "#f0f921"
             ]
            ],
            "type": "heatmapgl"
           }
          ],
          "histogram": [
           {
            "marker": {
             "pattern": {
              "fillmode": "overlay",
              "size": 10,
              "solidity": 0.2
             }
            },
            "type": "histogram"
           }
          ],
          "histogram2d": [
           {
            "colorbar": {
             "outlinewidth": 0,
             "ticks": ""
            },
            "colorscale": [
             [
              0,
              "#0d0887"
             ],
             [
              0.1111111111111111,
              "#46039f"
             ],
             [
              0.2222222222222222,
              "#7201a8"
             ],
             [
              0.3333333333333333,
              "#9c179e"
             ],
             [
              0.4444444444444444,
              "#bd3786"
             ],
             [
              0.5555555555555556,
              "#d8576b"
             ],
             [
              0.6666666666666666,
              "#ed7953"
             ],
             [
              0.7777777777777778,
              "#fb9f3a"
             ],
             [
              0.8888888888888888,
              "#fdca26"
             ],
             [
              1,
              "#f0f921"
             ]
            ],
            "type": "histogram2d"
           }
          ],
          "histogram2dcontour": [
           {
            "colorbar": {
             "outlinewidth": 0,
             "ticks": ""
            },
            "colorscale": [
             [
              0,
              "#0d0887"
             ],
             [
              0.1111111111111111,
              "#46039f"
             ],
             [
              0.2222222222222222,
              "#7201a8"
             ],
             [
              0.3333333333333333,
              "#9c179e"
             ],
             [
              0.4444444444444444,
              "#bd3786"
             ],
             [
              0.5555555555555556,
              "#d8576b"
             ],
             [
              0.6666666666666666,
              "#ed7953"
             ],
             [
              0.7777777777777778,
              "#fb9f3a"
             ],
             [
              0.8888888888888888,
              "#fdca26"
             ],
             [
              1,
              "#f0f921"
             ]
            ],
            "type": "histogram2dcontour"
           }
          ],
          "mesh3d": [
           {
            "colorbar": {
             "outlinewidth": 0,
             "ticks": ""
            },
            "type": "mesh3d"
           }
          ],
          "parcoords": [
           {
            "line": {
             "colorbar": {
              "outlinewidth": 0,
              "ticks": ""
             }
            },
            "type": "parcoords"
           }
          ],
          "pie": [
           {
            "automargin": true,
            "type": "pie"
           }
          ],
          "scatter": [
           {
            "fillpattern": {
             "fillmode": "overlay",
             "size": 10,
             "solidity": 0.2
            },
            "type": "scatter"
           }
          ],
          "scatter3d": [
           {
            "line": {
             "colorbar": {
              "outlinewidth": 0,
              "ticks": ""
             }
            },
            "marker": {
             "colorbar": {
              "outlinewidth": 0,
              "ticks": ""
             }
            },
            "type": "scatter3d"
           }
          ],
          "scattercarpet": [
           {
            "marker": {
             "colorbar": {
              "outlinewidth": 0,
              "ticks": ""
             }
            },
            "type": "scattercarpet"
           }
          ],
          "scattergeo": [
           {
            "marker": {
             "colorbar": {
              "outlinewidth": 0,
              "ticks": ""
             }
            },
            "type": "scattergeo"
           }
          ],
          "scattergl": [
           {
            "marker": {
             "colorbar": {
              "outlinewidth": 0,
              "ticks": ""
             }
            },
            "type": "scattergl"
           }
          ],
          "scattermapbox": [
           {
            "marker": {
             "colorbar": {
              "outlinewidth": 0,
              "ticks": ""
             }
            },
            "type": "scattermapbox"
           }
          ],
          "scatterpolar": [
           {
            "marker": {
             "colorbar": {
              "outlinewidth": 0,
              "ticks": ""
             }
            },
            "type": "scatterpolar"
           }
          ],
          "scatterpolargl": [
           {
            "marker": {
             "colorbar": {
              "outlinewidth": 0,
              "ticks": ""
             }
            },
            "type": "scatterpolargl"
           }
          ],
          "scatterternary": [
           {
            "marker": {
             "colorbar": {
              "outlinewidth": 0,
              "ticks": ""
             }
            },
            "type": "scatterternary"
           }
          ],
          "surface": [
           {
            "colorbar": {
             "outlinewidth": 0,
             "ticks": ""
            },
            "colorscale": [
             [
              0,
              "#0d0887"
             ],
             [
              0.1111111111111111,
              "#46039f"
             ],
             [
              0.2222222222222222,
              "#7201a8"
             ],
             [
              0.3333333333333333,
              "#9c179e"
             ],
             [
              0.4444444444444444,
              "#bd3786"
             ],
             [
              0.5555555555555556,
              "#d8576b"
             ],
             [
              0.6666666666666666,
              "#ed7953"
             ],
             [
              0.7777777777777778,
              "#fb9f3a"
             ],
             [
              0.8888888888888888,
              "#fdca26"
             ],
             [
              1,
              "#f0f921"
             ]
            ],
            "type": "surface"
           }
          ],
          "table": [
           {
            "cells": {
             "fill": {
              "color": "#EBF0F8"
             },
             "line": {
              "color": "white"
             }
            },
            "header": {
             "fill": {
              "color": "#C8D4E3"
             },
             "line": {
              "color": "white"
             }
            },
            "type": "table"
           }
          ]
         },
         "layout": {
          "annotationdefaults": {
           "arrowcolor": "#2a3f5f",
           "arrowhead": 0,
           "arrowwidth": 1
          },
          "autotypenumbers": "strict",
          "coloraxis": {
           "colorbar": {
            "outlinewidth": 0,
            "ticks": ""
           }
          },
          "colorscale": {
           "diverging": [
            [
             0,
             "#8e0152"
            ],
            [
             0.1,
             "#c51b7d"
            ],
            [
             0.2,
             "#de77ae"
            ],
            [
             0.3,
             "#f1b6da"
            ],
            [
             0.4,
             "#fde0ef"
            ],
            [
             0.5,
             "#f7f7f7"
            ],
            [
             0.6,
             "#e6f5d0"
            ],
            [
             0.7,
             "#b8e186"
            ],
            [
             0.8,
             "#7fbc41"
            ],
            [
             0.9,
             "#4d9221"
            ],
            [
             1,
             "#276419"
            ]
           ],
           "sequential": [
            [
             0,
             "#0d0887"
            ],
            [
             0.1111111111111111,
             "#46039f"
            ],
            [
             0.2222222222222222,
             "#7201a8"
            ],
            [
             0.3333333333333333,
             "#9c179e"
            ],
            [
             0.4444444444444444,
             "#bd3786"
            ],
            [
             0.5555555555555556,
             "#d8576b"
            ],
            [
             0.6666666666666666,
             "#ed7953"
            ],
            [
             0.7777777777777778,
             "#fb9f3a"
            ],
            [
             0.8888888888888888,
             "#fdca26"
            ],
            [
             1,
             "#f0f921"
            ]
           ],
           "sequentialminus": [
            [
             0,
             "#0d0887"
            ],
            [
             0.1111111111111111,
             "#46039f"
            ],
            [
             0.2222222222222222,
             "#7201a8"
            ],
            [
             0.3333333333333333,
             "#9c179e"
            ],
            [
             0.4444444444444444,
             "#bd3786"
            ],
            [
             0.5555555555555556,
             "#d8576b"
            ],
            [
             0.6666666666666666,
             "#ed7953"
            ],
            [
             0.7777777777777778,
             "#fb9f3a"
            ],
            [
             0.8888888888888888,
             "#fdca26"
            ],
            [
             1,
             "#f0f921"
            ]
           ]
          },
          "colorway": [
           "#636efa",
           "#EF553B",
           "#00cc96",
           "#ab63fa",
           "#FFA15A",
           "#19d3f3",
           "#FF6692",
           "#B6E880",
           "#FF97FF",
           "#FECB52"
          ],
          "font": {
           "color": "#2a3f5f"
          },
          "geo": {
           "bgcolor": "white",
           "lakecolor": "white",
           "landcolor": "#E5ECF6",
           "showlakes": true,
           "showland": true,
           "subunitcolor": "white"
          },
          "hoverlabel": {
           "align": "left"
          },
          "hovermode": "closest",
          "mapbox": {
           "style": "light"
          },
          "paper_bgcolor": "white",
          "plot_bgcolor": "#E5ECF6",
          "polar": {
           "angularaxis": {
            "gridcolor": "white",
            "linecolor": "white",
            "ticks": ""
           },
           "bgcolor": "#E5ECF6",
           "radialaxis": {
            "gridcolor": "white",
            "linecolor": "white",
            "ticks": ""
           }
          },
          "scene": {
           "xaxis": {
            "backgroundcolor": "#E5ECF6",
            "gridcolor": "white",
            "gridwidth": 2,
            "linecolor": "white",
            "showbackground": true,
            "ticks": "",
            "zerolinecolor": "white"
           },
           "yaxis": {
            "backgroundcolor": "#E5ECF6",
            "gridcolor": "white",
            "gridwidth": 2,
            "linecolor": "white",
            "showbackground": true,
            "ticks": "",
            "zerolinecolor": "white"
           },
           "zaxis": {
            "backgroundcolor": "#E5ECF6",
            "gridcolor": "white",
            "gridwidth": 2,
            "linecolor": "white",
            "showbackground": true,
            "ticks": "",
            "zerolinecolor": "white"
           }
          },
          "shapedefaults": {
           "line": {
            "color": "#2a3f5f"
           }
          },
          "ternary": {
           "aaxis": {
            "gridcolor": "white",
            "linecolor": "white",
            "ticks": ""
           },
           "baxis": {
            "gridcolor": "white",
            "linecolor": "white",
            "ticks": ""
           },
           "bgcolor": "#E5ECF6",
           "caxis": {
            "gridcolor": "white",
            "linecolor": "white",
            "ticks": ""
           }
          },
          "title": {
           "x": 0.05
          },
          "xaxis": {
           "automargin": true,
           "gridcolor": "white",
           "linecolor": "white",
           "ticks": "",
           "title": {
            "standoff": 15
           },
           "zerolinecolor": "white",
           "zerolinewidth": 2
          },
          "yaxis": {
           "automargin": true,
           "gridcolor": "white",
           "linecolor": "white",
           "ticks": "",
           "title": {
            "standoff": 15
           },
           "zerolinecolor": "white",
           "zerolinewidth": 2
          }
         }
        },
        "xaxis": {
         "anchor": "y",
         "categoryarray": [
          "Brucellosis",
          "Bovine Respiratory Disease",
          "Healthy",
          "Infectious Bovine Rhinotracheitis",
          "Ringworm",
          "Bovine Viral Diarrhea",
          "Johne's Disease",
          "Blue Tongue",
          "Mastitis",
          "Foot and Mouth Disease",
          "Leptospirosis",
          "Anthrax",
          "Bovine Tuberculosis",
          "Salmonella"
         ],
         "categoryorder": "array",
         "domain": [
          0,
          1
         ],
         "title": {
          "text": "index"
         }
        },
        "yaxis": {
         "anchor": "x",
         "domain": [
          0,
          1
         ],
         "title": {
          "text": "Disease"
         }
        }
       }
      }
     },
     "metadata": {},
     "output_type": "display_data"
    }
   ],
   "source": [
    "fig = px.bar(df_plot,x = \"index\",y = \"Disease\",color = \"index\",)\n",
    "fig.show()"
   ]
  },
  {
   "cell_type": "code",
   "execution_count": 8,
   "metadata": {},
   "outputs": [
    {
     "data": {
      "text/html": [
       "<div>\n",
       "<style scoped>\n",
       "    .dataframe tbody tr th:only-of-type {\n",
       "        vertical-align: middle;\n",
       "    }\n",
       "\n",
       "    .dataframe tbody tr th {\n",
       "        vertical-align: top;\n",
       "    }\n",
       "\n",
       "    .dataframe thead th {\n",
       "        text-align: right;\n",
       "    }\n",
       "</style>\n",
       "<table border=\"1\" class=\"dataframe\">\n",
       "  <thead>\n",
       "    <tr style=\"text-align: right;\">\n",
       "      <th></th>\n",
       "      <th>id</th>\n",
       "      <th>Age</th>\n",
       "      <th>Weight</th>\n",
       "      <th>Body condition score</th>\n",
       "      <th>Temperature</th>\n",
       "      <th>Heart rate</th>\n",
       "      <th>Respiratory Rate</th>\n",
       "      <th>Milk Yield</th>\n",
       "      <th>Mastitis Score</th>\n",
       "      <th>Disease</th>\n",
       "    </tr>\n",
       "  </thead>\n",
       "  <tbody>\n",
       "    <tr>\n",
       "      <th>0</th>\n",
       "      <td>1</td>\n",
       "      <td>7 years</td>\n",
       "      <td>437</td>\n",
       "      <td>4</td>\n",
       "      <td>38.8</td>\n",
       "      <td>75</td>\n",
       "      <td>14.39</td>\n",
       "      <td>2.6</td>\n",
       "      <td>8.41</td>\n",
       "      <td>Healthy</td>\n",
       "    </tr>\n",
       "    <tr>\n",
       "      <th>1</th>\n",
       "      <td>2</td>\n",
       "      <td>4 years</td>\n",
       "      <td>329</td>\n",
       "      <td>3</td>\n",
       "      <td>38.2</td>\n",
       "      <td>65</td>\n",
       "      <td>79.53</td>\n",
       "      <td>2.0</td>\n",
       "      <td>8.57</td>\n",
       "      <td>Bovine Respiratory Disease</td>\n",
       "    </tr>\n",
       "    <tr>\n",
       "      <th>2</th>\n",
       "      <td>3</td>\n",
       "      <td>5 years</td>\n",
       "      <td>303</td>\n",
       "      <td>5</td>\n",
       "      <td>38.9</td>\n",
       "      <td>53</td>\n",
       "      <td>14.36</td>\n",
       "      <td>2.5</td>\n",
       "      <td>0.04</td>\n",
       "      <td>Brucellosis</td>\n",
       "    </tr>\n",
       "    <tr>\n",
       "      <th>3</th>\n",
       "      <td>4</td>\n",
       "      <td>6 years</td>\n",
       "      <td>255</td>\n",
       "      <td>4</td>\n",
       "      <td>39.6</td>\n",
       "      <td>66</td>\n",
       "      <td>92.71</td>\n",
       "      <td>4.3</td>\n",
       "      <td>3.54</td>\n",
       "      <td>Johne's Disease</td>\n",
       "    </tr>\n",
       "    <tr>\n",
       "      <th>4</th>\n",
       "      <td>5</td>\n",
       "      <td>7 years</td>\n",
       "      <td>393</td>\n",
       "      <td>1</td>\n",
       "      <td>38.3</td>\n",
       "      <td>77</td>\n",
       "      <td>26.42</td>\n",
       "      <td>5.1</td>\n",
       "      <td>4.90</td>\n",
       "      <td>Bovine Viral Diarrhea</td>\n",
       "    </tr>\n",
       "  </tbody>\n",
       "</table>\n",
       "</div>"
      ],
      "text/plain": [
       "   id      Age  Weight  Body condition score   Temperature   Heart rate  \\\n",
       "0   1  7 years     437                      4          38.8          75   \n",
       "1   2  4 years     329                      3          38.2          65   \n",
       "2   3  5 years     303                      5          38.9          53   \n",
       "3   4  6 years     255                      4          39.6          66   \n",
       "4   5  7 years     393                      1          38.3          77   \n",
       "\n",
       "   Respiratory Rate  Milk Yield  Mastitis Score                     Disease  \n",
       "0             14.39         2.6            8.41                     Healthy  \n",
       "1             79.53         2.0            8.57  Bovine Respiratory Disease  \n",
       "2             14.36         2.5            0.04                 Brucellosis  \n",
       "3             92.71         4.3            3.54             Johne's Disease  \n",
       "4             26.42         5.1            4.90       Bovine Viral Diarrhea  "
      ]
     },
     "execution_count": 8,
     "metadata": {},
     "output_type": "execute_result"
    }
   ],
   "source": [
    "dataset_2 = pd.read_csv(\"/home/ravikumar/freelance/machine_learning/cattle_health/dataset/Dataset2.csv\")\n",
    "dataset_2.head()"
   ]
  },
  {
   "cell_type": "code",
   "execution_count": 9,
   "metadata": {},
   "outputs": [
    {
     "data": {
      "text/html": [
       "<div>\n",
       "<style scoped>\n",
       "    .dataframe tbody tr th:only-of-type {\n",
       "        vertical-align: middle;\n",
       "    }\n",
       "\n",
       "    .dataframe tbody tr th {\n",
       "        vertical-align: top;\n",
       "    }\n",
       "\n",
       "    .dataframe thead th {\n",
       "        text-align: right;\n",
       "    }\n",
       "</style>\n",
       "<table border=\"1\" class=\"dataframe\">\n",
       "  <thead>\n",
       "    <tr style=\"text-align: right;\">\n",
       "      <th></th>\n",
       "      <th>id</th>\n",
       "      <th>Age</th>\n",
       "      <th>Weight</th>\n",
       "      <th>Body condition score</th>\n",
       "      <th>Temperature</th>\n",
       "      <th>Heart rate</th>\n",
       "      <th>Respiratory Rate</th>\n",
       "      <th>Milk Yield</th>\n",
       "      <th>Mastitis Score</th>\n",
       "      <th>Disease</th>\n",
       "    </tr>\n",
       "  </thead>\n",
       "  <tbody>\n",
       "    <tr>\n",
       "      <th>0</th>\n",
       "      <td>1</td>\n",
       "      <td>1 year</td>\n",
       "      <td>407</td>\n",
       "      <td>5</td>\n",
       "      <td>37.8</td>\n",
       "      <td>66</td>\n",
       "      <td>0.98</td>\n",
       "      <td>5.1</td>\n",
       "      <td>9.94</td>\n",
       "      <td>Bovine Respiratory Disease</td>\n",
       "    </tr>\n",
       "    <tr>\n",
       "      <th>1</th>\n",
       "      <td>2</td>\n",
       "      <td>5 years</td>\n",
       "      <td>294</td>\n",
       "      <td>5</td>\n",
       "      <td>38.4</td>\n",
       "      <td>82</td>\n",
       "      <td>54.65</td>\n",
       "      <td>4.6</td>\n",
       "      <td>0.39</td>\n",
       "      <td>Bovine Viral Diarrhea</td>\n",
       "    </tr>\n",
       "    <tr>\n",
       "      <th>2</th>\n",
       "      <td>3</td>\n",
       "      <td>3 years</td>\n",
       "      <td>304</td>\n",
       "      <td>5</td>\n",
       "      <td>39.6</td>\n",
       "      <td>67</td>\n",
       "      <td>71.85</td>\n",
       "      <td>2.7</td>\n",
       "      <td>9.96</td>\n",
       "      <td>Foot and Mouth Disease</td>\n",
       "    </tr>\n",
       "    <tr>\n",
       "      <th>3</th>\n",
       "      <td>4</td>\n",
       "      <td>3 years</td>\n",
       "      <td>408</td>\n",
       "      <td>4</td>\n",
       "      <td>38.1</td>\n",
       "      <td>73</td>\n",
       "      <td>67.79</td>\n",
       "      <td>2.2</td>\n",
       "      <td>5.80</td>\n",
       "      <td>Bovine Tuberculosis</td>\n",
       "    </tr>\n",
       "    <tr>\n",
       "      <th>4</th>\n",
       "      <td>5</td>\n",
       "      <td>3 years</td>\n",
       "      <td>276</td>\n",
       "      <td>3</td>\n",
       "      <td>39.7</td>\n",
       "      <td>64</td>\n",
       "      <td>26.36</td>\n",
       "      <td>5.4</td>\n",
       "      <td>8.77</td>\n",
       "      <td>Ringworm</td>\n",
       "    </tr>\n",
       "  </tbody>\n",
       "</table>\n",
       "</div>"
      ],
      "text/plain": [
       "   id      Age  Weight  Body condition score   Temperature   Heart rate  \\\n",
       "0   1   1 year     407                      5          37.8          66   \n",
       "1   2  5 years     294                      5          38.4          82   \n",
       "2   3  3 years     304                      5          39.6          67   \n",
       "3   4  3 years     408                      4          38.1          73   \n",
       "4   5  3 years     276                      3          39.7          64   \n",
       "\n",
       "   Respiratory Rate  Milk Yield  Mastitis Score                     Disease  \n",
       "0              0.98         5.1            9.94  Bovine Respiratory Disease  \n",
       "1             54.65         4.6            0.39       Bovine Viral Diarrhea  \n",
       "2             71.85         2.7            9.96      Foot and Mouth Disease  \n",
       "3             67.79         2.2            5.80         Bovine Tuberculosis  \n",
       "4             26.36         5.4            8.77                    Ringworm  "
      ]
     },
     "execution_count": 9,
     "metadata": {},
     "output_type": "execute_result"
    }
   ],
   "source": [
    "dataset_1.head()"
   ]
  },
  {
   "cell_type": "code",
   "execution_count": 22,
   "metadata": {},
   "outputs": [],
   "source": [
    "dataframe = pd.concat([dataset_1,dataset_2])"
   ]
  },
  {
   "cell_type": "code",
   "execution_count": 23,
   "metadata": {},
   "outputs": [
    {
     "data": {
      "text/plain": [
       "((1000, 10), (1000, 10))"
      ]
     },
     "execution_count": 23,
     "metadata": {},
     "output_type": "execute_result"
    }
   ],
   "source": [
    "dataset_2.shape,dataset_1.shape"
   ]
  },
  {
   "cell_type": "code",
   "execution_count": 24,
   "metadata": {},
   "outputs": [],
   "source": [
    "dataframe.drop_duplicates(inplace=True)"
   ]
  },
  {
   "cell_type": "code",
   "execution_count": 25,
   "metadata": {},
   "outputs": [
    {
     "data": {
      "text/html": [
       "<div>\n",
       "<style scoped>\n",
       "    .dataframe tbody tr th:only-of-type {\n",
       "        vertical-align: middle;\n",
       "    }\n",
       "\n",
       "    .dataframe tbody tr th {\n",
       "        vertical-align: top;\n",
       "    }\n",
       "\n",
       "    .dataframe thead th {\n",
       "        text-align: right;\n",
       "    }\n",
       "</style>\n",
       "<table border=\"1\" class=\"dataframe\">\n",
       "  <thead>\n",
       "    <tr style=\"text-align: right;\">\n",
       "      <th></th>\n",
       "      <th>id</th>\n",
       "      <th>Age</th>\n",
       "      <th>Weight</th>\n",
       "      <th>Body condition score</th>\n",
       "      <th>Temperature</th>\n",
       "      <th>Heart rate</th>\n",
       "      <th>Respiratory Rate</th>\n",
       "      <th>Milk Yield</th>\n",
       "      <th>Mastitis Score</th>\n",
       "      <th>Disease</th>\n",
       "    </tr>\n",
       "  </thead>\n",
       "  <tbody>\n",
       "    <tr>\n",
       "      <th>0</th>\n",
       "      <td>1</td>\n",
       "      <td>1 year</td>\n",
       "      <td>407</td>\n",
       "      <td>5</td>\n",
       "      <td>37.8</td>\n",
       "      <td>66</td>\n",
       "      <td>0.98</td>\n",
       "      <td>5.1</td>\n",
       "      <td>9.94</td>\n",
       "      <td>Bovine Respiratory Disease</td>\n",
       "    </tr>\n",
       "    <tr>\n",
       "      <th>1</th>\n",
       "      <td>2</td>\n",
       "      <td>5 years</td>\n",
       "      <td>294</td>\n",
       "      <td>5</td>\n",
       "      <td>38.4</td>\n",
       "      <td>82</td>\n",
       "      <td>54.65</td>\n",
       "      <td>4.6</td>\n",
       "      <td>0.39</td>\n",
       "      <td>Bovine Viral Diarrhea</td>\n",
       "    </tr>\n",
       "    <tr>\n",
       "      <th>2</th>\n",
       "      <td>3</td>\n",
       "      <td>3 years</td>\n",
       "      <td>304</td>\n",
       "      <td>5</td>\n",
       "      <td>39.6</td>\n",
       "      <td>67</td>\n",
       "      <td>71.85</td>\n",
       "      <td>2.7</td>\n",
       "      <td>9.96</td>\n",
       "      <td>Foot and Mouth Disease</td>\n",
       "    </tr>\n",
       "    <tr>\n",
       "      <th>3</th>\n",
       "      <td>4</td>\n",
       "      <td>3 years</td>\n",
       "      <td>408</td>\n",
       "      <td>4</td>\n",
       "      <td>38.1</td>\n",
       "      <td>73</td>\n",
       "      <td>67.79</td>\n",
       "      <td>2.2</td>\n",
       "      <td>5.80</td>\n",
       "      <td>Bovine Tuberculosis</td>\n",
       "    </tr>\n",
       "    <tr>\n",
       "      <th>4</th>\n",
       "      <td>5</td>\n",
       "      <td>3 years</td>\n",
       "      <td>276</td>\n",
       "      <td>3</td>\n",
       "      <td>39.7</td>\n",
       "      <td>64</td>\n",
       "      <td>26.36</td>\n",
       "      <td>5.4</td>\n",
       "      <td>8.77</td>\n",
       "      <td>Ringworm</td>\n",
       "    </tr>\n",
       "  </tbody>\n",
       "</table>\n",
       "</div>"
      ],
      "text/plain": [
       "   id      Age  Weight  Body condition score   Temperature   Heart rate  \\\n",
       "0   1   1 year     407                      5          37.8          66   \n",
       "1   2  5 years     294                      5          38.4          82   \n",
       "2   3  3 years     304                      5          39.6          67   \n",
       "3   4  3 years     408                      4          38.1          73   \n",
       "4   5  3 years     276                      3          39.7          64   \n",
       "\n",
       "   Respiratory Rate  Milk Yield  Mastitis Score                     Disease  \n",
       "0              0.98         5.1            9.94  Bovine Respiratory Disease  \n",
       "1             54.65         4.6            0.39       Bovine Viral Diarrhea  \n",
       "2             71.85         2.7            9.96      Foot and Mouth Disease  \n",
       "3             67.79         2.2            5.80         Bovine Tuberculosis  \n",
       "4             26.36         5.4            8.77                    Ringworm  "
      ]
     },
     "execution_count": 25,
     "metadata": {},
     "output_type": "execute_result"
    }
   ],
   "source": [
    "dataframe.head()"
   ]
  },
  {
   "cell_type": "code",
   "execution_count": 26,
   "metadata": {},
   "outputs": [
    {
     "data": {
      "text/plain": [
       "array(['1 year', '5 years', '3 years', '6 years', '2 years', '7 years',\n",
       "       '4 years'], dtype=object)"
      ]
     },
     "execution_count": 26,
     "metadata": {},
     "output_type": "execute_result"
    }
   ],
   "source": [
    "dataframe['Age'].unique()"
   ]
  },
  {
   "cell_type": "code",
   "execution_count": 27,
   "metadata": {},
   "outputs": [
    {
     "data": {
      "text/html": [
       "<div>\n",
       "<style scoped>\n",
       "    .dataframe tbody tr th:only-of-type {\n",
       "        vertical-align: middle;\n",
       "    }\n",
       "\n",
       "    .dataframe tbody tr th {\n",
       "        vertical-align: top;\n",
       "    }\n",
       "\n",
       "    .dataframe thead th {\n",
       "        text-align: right;\n",
       "    }\n",
       "</style>\n",
       "<table border=\"1\" class=\"dataframe\">\n",
       "  <thead>\n",
       "    <tr style=\"text-align: right;\">\n",
       "      <th></th>\n",
       "      <th>id</th>\n",
       "      <th>Age</th>\n",
       "      <th>Weight</th>\n",
       "      <th>Body condition score</th>\n",
       "      <th>Temperature</th>\n",
       "      <th>Heart rate</th>\n",
       "      <th>Respiratory Rate</th>\n",
       "      <th>Milk Yield</th>\n",
       "      <th>Mastitis Score</th>\n",
       "      <th>Disease</th>\n",
       "    </tr>\n",
       "  </thead>\n",
       "  <tbody>\n",
       "    <tr>\n",
       "      <th>0</th>\n",
       "      <td>1</td>\n",
       "      <td>1 year</td>\n",
       "      <td>407</td>\n",
       "      <td>5</td>\n",
       "      <td>37.8</td>\n",
       "      <td>66</td>\n",
       "      <td>0.98</td>\n",
       "      <td>5.1</td>\n",
       "      <td>9.94</td>\n",
       "      <td>Bovine Respiratory Disease</td>\n",
       "    </tr>\n",
       "    <tr>\n",
       "      <th>1</th>\n",
       "      <td>2</td>\n",
       "      <td>5 years</td>\n",
       "      <td>294</td>\n",
       "      <td>5</td>\n",
       "      <td>38.4</td>\n",
       "      <td>82</td>\n",
       "      <td>54.65</td>\n",
       "      <td>4.6</td>\n",
       "      <td>0.39</td>\n",
       "      <td>Bovine Viral Diarrhea</td>\n",
       "    </tr>\n",
       "    <tr>\n",
       "      <th>2</th>\n",
       "      <td>3</td>\n",
       "      <td>3 years</td>\n",
       "      <td>304</td>\n",
       "      <td>5</td>\n",
       "      <td>39.6</td>\n",
       "      <td>67</td>\n",
       "      <td>71.85</td>\n",
       "      <td>2.7</td>\n",
       "      <td>9.96</td>\n",
       "      <td>Foot and Mouth Disease</td>\n",
       "    </tr>\n",
       "    <tr>\n",
       "      <th>3</th>\n",
       "      <td>4</td>\n",
       "      <td>3 years</td>\n",
       "      <td>408</td>\n",
       "      <td>4</td>\n",
       "      <td>38.1</td>\n",
       "      <td>73</td>\n",
       "      <td>67.79</td>\n",
       "      <td>2.2</td>\n",
       "      <td>5.80</td>\n",
       "      <td>Bovine Tuberculosis</td>\n",
       "    </tr>\n",
       "    <tr>\n",
       "      <th>4</th>\n",
       "      <td>5</td>\n",
       "      <td>3 years</td>\n",
       "      <td>276</td>\n",
       "      <td>3</td>\n",
       "      <td>39.7</td>\n",
       "      <td>64</td>\n",
       "      <td>26.36</td>\n",
       "      <td>5.4</td>\n",
       "      <td>8.77</td>\n",
       "      <td>Ringworm</td>\n",
       "    </tr>\n",
       "    <tr>\n",
       "      <th>...</th>\n",
       "      <td>...</td>\n",
       "      <td>...</td>\n",
       "      <td>...</td>\n",
       "      <td>...</td>\n",
       "      <td>...</td>\n",
       "      <td>...</td>\n",
       "      <td>...</td>\n",
       "      <td>...</td>\n",
       "      <td>...</td>\n",
       "      <td>...</td>\n",
       "    </tr>\n",
       "    <tr>\n",
       "      <th>1995</th>\n",
       "      <td>996</td>\n",
       "      <td>1 year</td>\n",
       "      <td>285</td>\n",
       "      <td>5</td>\n",
       "      <td>38.3</td>\n",
       "      <td>79</td>\n",
       "      <td>13.04</td>\n",
       "      <td>1.8</td>\n",
       "      <td>6.11</td>\n",
       "      <td>Johne's Disease</td>\n",
       "    </tr>\n",
       "    <tr>\n",
       "      <th>1996</th>\n",
       "      <td>997</td>\n",
       "      <td>4 years</td>\n",
       "      <td>440</td>\n",
       "      <td>4</td>\n",
       "      <td>37.9</td>\n",
       "      <td>80</td>\n",
       "      <td>7.08</td>\n",
       "      <td>5.4</td>\n",
       "      <td>9.92</td>\n",
       "      <td>Bovine Tuberculosis</td>\n",
       "    </tr>\n",
       "    <tr>\n",
       "      <th>1997</th>\n",
       "      <td>998</td>\n",
       "      <td>7 years</td>\n",
       "      <td>382</td>\n",
       "      <td>3</td>\n",
       "      <td>39.5</td>\n",
       "      <td>77</td>\n",
       "      <td>87.72</td>\n",
       "      <td>4.9</td>\n",
       "      <td>0.38</td>\n",
       "      <td>Bovine Respiratory Disease</td>\n",
       "    </tr>\n",
       "    <tr>\n",
       "      <th>1998</th>\n",
       "      <td>999</td>\n",
       "      <td>2 years</td>\n",
       "      <td>338</td>\n",
       "      <td>1</td>\n",
       "      <td>39.8</td>\n",
       "      <td>79</td>\n",
       "      <td>31.25</td>\n",
       "      <td>5.6</td>\n",
       "      <td>7.06</td>\n",
       "      <td>Bovine Respiratory Disease</td>\n",
       "    </tr>\n",
       "    <tr>\n",
       "      <th>1999</th>\n",
       "      <td>1000</td>\n",
       "      <td>3 years</td>\n",
       "      <td>428</td>\n",
       "      <td>4</td>\n",
       "      <td>39.1</td>\n",
       "      <td>69</td>\n",
       "      <td>28.24</td>\n",
       "      <td>2.5</td>\n",
       "      <td>3.90</td>\n",
       "      <td>Johne's Disease</td>\n",
       "    </tr>\n",
       "  </tbody>\n",
       "</table>\n",
       "<p>2000 rows × 10 columns</p>\n",
       "</div>"
      ],
      "text/plain": [
       "        id      Age  Weight  Body condition score   Temperature   Heart rate  \\\n",
       "0        1   1 year     407                      5          37.8          66   \n",
       "1        2  5 years     294                      5          38.4          82   \n",
       "2        3  3 years     304                      5          39.6          67   \n",
       "3        4  3 years     408                      4          38.1          73   \n",
       "4        5  3 years     276                      3          39.7          64   \n",
       "...    ...      ...     ...                    ...           ...         ...   \n",
       "1995   996   1 year     285                      5          38.3          79   \n",
       "1996   997  4 years     440                      4          37.9          80   \n",
       "1997   998  7 years     382                      3          39.5          77   \n",
       "1998   999  2 years     338                      1          39.8          79   \n",
       "1999  1000  3 years     428                      4          39.1          69   \n",
       "\n",
       "      Respiratory Rate  Milk Yield  Mastitis Score                     Disease  \n",
       "0                 0.98         5.1            9.94  Bovine Respiratory Disease  \n",
       "1                54.65         4.6            0.39       Bovine Viral Diarrhea  \n",
       "2                71.85         2.7            9.96      Foot and Mouth Disease  \n",
       "3                67.79         2.2            5.80         Bovine Tuberculosis  \n",
       "4                26.36         5.4            8.77                    Ringworm  \n",
       "...                ...         ...             ...                         ...  \n",
       "1995             13.04         1.8            6.11             Johne's Disease  \n",
       "1996              7.08         5.4            9.92         Bovine Tuberculosis  \n",
       "1997             87.72         4.9            0.38  Bovine Respiratory Disease  \n",
       "1998             31.25         5.6            7.06  Bovine Respiratory Disease  \n",
       "1999             28.24         2.5            3.90             Johne's Disease  \n",
       "\n",
       "[2000 rows x 10 columns]"
      ]
     },
     "execution_count": 27,
     "metadata": {},
     "output_type": "execute_result"
    }
   ],
   "source": [
    "dataframe.reset_index().drop([\"index\"],axis = 1)"
   ]
  },
  {
   "cell_type": "code",
   "execution_count": 28,
   "metadata": {},
   "outputs": [
    {
     "data": {
      "text/plain": [
       "Index(['id', 'Age', 'Weight', 'Body condition score ', 'Temperature ',\n",
       "       'Heart rate', 'Respiratory Rate', 'Milk Yield', 'Mastitis Score',\n",
       "       'Disease'],\n",
       "      dtype='object')"
      ]
     },
     "execution_count": 28,
     "metadata": {},
     "output_type": "execute_result"
    }
   ],
   "source": [
    "dataframe.columns"
   ]
  },
  {
   "cell_type": "code",
   "execution_count": 29,
   "metadata": {},
   "outputs": [],
   "source": [
    "features = ['Age', 'Weight', 'Body condition score ', 'Temperature ',\n",
    "       'Heart rate', 'Milk Yield']\n",
    "target = ['Disease']"
   ]
  },
  {
   "cell_type": "code",
   "execution_count": 34,
   "metadata": {},
   "outputs": [],
   "source": [
    "dataframe = pd.concat([dataset_1,dataset_2])"
   ]
  },
  {
   "cell_type": "code",
   "execution_count": 37,
   "metadata": {},
   "outputs": [
    {
     "data": {
      "text/plain": [
       "array([1, 5, 3, 6, 2, 7, 4])"
      ]
     },
     "execution_count": 37,
     "metadata": {},
     "output_type": "execute_result"
    }
   ],
   "source": [
    "dataframe['Age'].unique()"
   ]
  },
  {
   "cell_type": "code",
   "execution_count": 36,
   "metadata": {},
   "outputs": [],
   "source": [
    "dataframe['Age'] = dataframe['Age'].apply(lambda x : int(x.split(\" \")[0]))"
   ]
  },
  {
   "cell_type": "code",
   "execution_count": 38,
   "metadata": {},
   "outputs": [
    {
     "name": "stdout",
     "output_type": "stream",
     "text": [
      "<class 'pandas.core.frame.DataFrame'>\n",
      "Int64Index: 2000 entries, 0 to 999\n",
      "Data columns (total 10 columns):\n",
      " #   Column                 Non-Null Count  Dtype  \n",
      "---  ------                 --------------  -----  \n",
      " 0   id                     2000 non-null   int64  \n",
      " 1   Age                    2000 non-null   int64  \n",
      " 2   Weight                 2000 non-null   int64  \n",
      " 3   Body condition score   2000 non-null   int64  \n",
      " 4   Temperature            2000 non-null   float64\n",
      " 5   Heart rate             2000 non-null   int64  \n",
      " 6   Respiratory Rate       2000 non-null   float64\n",
      " 7   Milk Yield             2000 non-null   float64\n",
      " 8   Mastitis Score         2000 non-null   float64\n",
      " 9   Disease                2000 non-null   object \n",
      "dtypes: float64(4), int64(5), object(1)\n",
      "memory usage: 171.9+ KB\n"
     ]
    }
   ],
   "source": [
    "dataframe.info()"
   ]
  },
  {
   "cell_type": "code",
   "execution_count": 41,
   "metadata": {},
   "outputs": [
    {
     "data": {
      "text/plain": [
       "Johne's Disease                      152\n",
       "Healthy                              149\n",
       "Infectious Bovine Rhinotracheitis    149\n",
       "Foot and Mouth Disease               148\n",
       "Bovine Respiratory Disease           146\n",
       "Bovine Viral Diarrhea                146\n",
       "Brucellosis                          144\n",
       "Leptospirosis                        144\n",
       "Blue Tongue                          144\n",
       "Mastitis                             143\n",
       "Ringworm                             140\n",
       "Bovine Tuberculosis                  139\n",
       "Salmonella                           133\n",
       "Anthrax                              123\n",
       "Name: Disease, dtype: int64"
      ]
     },
     "execution_count": 41,
     "metadata": {},
     "output_type": "execute_result"
    }
   ],
   "source": [
    "dataframe['Disease'].value_counts()"
   ]
  },
  {
   "cell_type": "code",
   "execution_count": 42,
   "metadata": {},
   "outputs": [],
   "source": [
    "MAPPING = {'Bovine Respiratory Disease': 0,\n",
    " 'Bovine Viral Diarrhea': 1,\n",
    " 'Foot and Mouth Disease': 2,\n",
    " 'Bovine Tuberculosis': 3,\n",
    " 'Ringworm': 4,\n",
    " 'Healthy': 5,\n",
    " 'Brucellosis': 6,\n",
    " 'Anthrax': 7,\n",
    " 'Leptospirosis': 8,\n",
    " \"Johne's Disease\": 9,\n",
    " 'Salmonella': 10,\n",
    " 'Mastitis': 11,\n",
    " 'Infectious Bovine Rhinotracheitis': 12,\n",
    " 'Blue Tongue': 13}"
   ]
  },
  {
   "cell_type": "code",
   "execution_count": 53,
   "metadata": {},
   "outputs": [],
   "source": [
    "mapping = dict()\n",
    "for idx,i in enumerate(dataframe['Disease'].unique()):\n",
    "    mapping[i] = idx\n",
    "    "
   ]
  },
  {
   "cell_type": "code",
   "execution_count": 43,
   "metadata": {},
   "outputs": [],
   "source": [
    "dataframe['Disease'] = dataframe['Disease'].apply(lambda x : MAPPING[x])"
   ]
  },
  {
   "cell_type": "code",
   "execution_count": 45,
   "metadata": {},
   "outputs": [
    {
     "data": {
      "text/plain": [
       "array([ 0,  1,  2,  3,  4,  5,  6,  7,  8,  9, 10, 11, 12, 13])"
      ]
     },
     "execution_count": 45,
     "metadata": {},
     "output_type": "execute_result"
    }
   ],
   "source": [
    "dataframe['Disease'].unique()"
   ]
  },
  {
   "cell_type": "code",
   "execution_count": 54,
   "metadata": {},
   "outputs": [],
   "source": [
    "dataframe = dataframe.drop([\"Mastitis Score\",\"Respiratory Rate\"],axis=1)"
   ]
  },
  {
   "cell_type": "code",
   "execution_count": 69,
   "metadata": {},
   "outputs": [
    {
     "data": {
      "text/html": [
       "<div>\n",
       "<style scoped>\n",
       "    .dataframe tbody tr th:only-of-type {\n",
       "        vertical-align: middle;\n",
       "    }\n",
       "\n",
       "    .dataframe tbody tr th {\n",
       "        vertical-align: top;\n",
       "    }\n",
       "\n",
       "    .dataframe thead th {\n",
       "        text-align: right;\n",
       "    }\n",
       "</style>\n",
       "<table border=\"1\" class=\"dataframe\">\n",
       "  <thead>\n",
       "    <tr style=\"text-align: right;\">\n",
       "      <th></th>\n",
       "      <th>id</th>\n",
       "      <th>age</th>\n",
       "      <th>weight</th>\n",
       "      <th>body_condition_score</th>\n",
       "      <th>temperature</th>\n",
       "      <th>heart_rate</th>\n",
       "      <th>milk_yield</th>\n",
       "      <th>disease</th>\n",
       "    </tr>\n",
       "  </thead>\n",
       "  <tbody>\n",
       "    <tr>\n",
       "      <th>0</th>\n",
       "      <td>1</td>\n",
       "      <td>1</td>\n",
       "      <td>407</td>\n",
       "      <td>5</td>\n",
       "      <td>37.8</td>\n",
       "      <td>66</td>\n",
       "      <td>5.1</td>\n",
       "      <td>0</td>\n",
       "    </tr>\n",
       "    <tr>\n",
       "      <th>1</th>\n",
       "      <td>2</td>\n",
       "      <td>5</td>\n",
       "      <td>294</td>\n",
       "      <td>5</td>\n",
       "      <td>38.4</td>\n",
       "      <td>82</td>\n",
       "      <td>4.6</td>\n",
       "      <td>1</td>\n",
       "    </tr>\n",
       "    <tr>\n",
       "      <th>2</th>\n",
       "      <td>3</td>\n",
       "      <td>3</td>\n",
       "      <td>304</td>\n",
       "      <td>5</td>\n",
       "      <td>39.6</td>\n",
       "      <td>67</td>\n",
       "      <td>2.7</td>\n",
       "      <td>2</td>\n",
       "    </tr>\n",
       "    <tr>\n",
       "      <th>3</th>\n",
       "      <td>4</td>\n",
       "      <td>3</td>\n",
       "      <td>408</td>\n",
       "      <td>4</td>\n",
       "      <td>38.1</td>\n",
       "      <td>73</td>\n",
       "      <td>2.2</td>\n",
       "      <td>3</td>\n",
       "    </tr>\n",
       "    <tr>\n",
       "      <th>4</th>\n",
       "      <td>5</td>\n",
       "      <td>3</td>\n",
       "      <td>276</td>\n",
       "      <td>3</td>\n",
       "      <td>39.7</td>\n",
       "      <td>64</td>\n",
       "      <td>5.4</td>\n",
       "      <td>4</td>\n",
       "    </tr>\n",
       "    <tr>\n",
       "      <th>...</th>\n",
       "      <td>...</td>\n",
       "      <td>...</td>\n",
       "      <td>...</td>\n",
       "      <td>...</td>\n",
       "      <td>...</td>\n",
       "      <td>...</td>\n",
       "      <td>...</td>\n",
       "      <td>...</td>\n",
       "    </tr>\n",
       "    <tr>\n",
       "      <th>995</th>\n",
       "      <td>996</td>\n",
       "      <td>1</td>\n",
       "      <td>285</td>\n",
       "      <td>5</td>\n",
       "      <td>38.3</td>\n",
       "      <td>79</td>\n",
       "      <td>1.8</td>\n",
       "      <td>9</td>\n",
       "    </tr>\n",
       "    <tr>\n",
       "      <th>996</th>\n",
       "      <td>997</td>\n",
       "      <td>4</td>\n",
       "      <td>440</td>\n",
       "      <td>4</td>\n",
       "      <td>37.9</td>\n",
       "      <td>80</td>\n",
       "      <td>5.4</td>\n",
       "      <td>3</td>\n",
       "    </tr>\n",
       "    <tr>\n",
       "      <th>997</th>\n",
       "      <td>998</td>\n",
       "      <td>7</td>\n",
       "      <td>382</td>\n",
       "      <td>3</td>\n",
       "      <td>39.5</td>\n",
       "      <td>77</td>\n",
       "      <td>4.9</td>\n",
       "      <td>0</td>\n",
       "    </tr>\n",
       "    <tr>\n",
       "      <th>998</th>\n",
       "      <td>999</td>\n",
       "      <td>2</td>\n",
       "      <td>338</td>\n",
       "      <td>1</td>\n",
       "      <td>39.8</td>\n",
       "      <td>79</td>\n",
       "      <td>5.6</td>\n",
       "      <td>0</td>\n",
       "    </tr>\n",
       "    <tr>\n",
       "      <th>999</th>\n",
       "      <td>1000</td>\n",
       "      <td>3</td>\n",
       "      <td>428</td>\n",
       "      <td>4</td>\n",
       "      <td>39.1</td>\n",
       "      <td>69</td>\n",
       "      <td>2.5</td>\n",
       "      <td>9</td>\n",
       "    </tr>\n",
       "  </tbody>\n",
       "</table>\n",
       "<p>2000 rows × 8 columns</p>\n",
       "</div>"
      ],
      "text/plain": [
       "       id  age  weight  body_condition_score  temperature  heart_rate  \\\n",
       "0       1    1     407                     5         37.8          66   \n",
       "1       2    5     294                     5         38.4          82   \n",
       "2       3    3     304                     5         39.6          67   \n",
       "3       4    3     408                     4         38.1          73   \n",
       "4       5    3     276                     3         39.7          64   \n",
       "..    ...  ...     ...                   ...          ...         ...   \n",
       "995   996    1     285                     5         38.3          79   \n",
       "996   997    4     440                     4         37.9          80   \n",
       "997   998    7     382                     3         39.5          77   \n",
       "998   999    2     338                     1         39.8          79   \n",
       "999  1000    3     428                     4         39.1          69   \n",
       "\n",
       "     milk_yield  disease  \n",
       "0           5.1        0  \n",
       "1           4.6        1  \n",
       "2           2.7        2  \n",
       "3           2.2        3  \n",
       "4           5.4        4  \n",
       "..          ...      ...  \n",
       "995         1.8        9  \n",
       "996         5.4        3  \n",
       "997         4.9        0  \n",
       "998         5.6        0  \n",
       "999         2.5        9  \n",
       "\n",
       "[2000 rows x 8 columns]"
      ]
     },
     "execution_count": 69,
     "metadata": {},
     "output_type": "execute_result"
    }
   ],
   "source": [
    "dataframe = dataframe.rename(columns={\n",
    "    \"Age\":\"age\",\n",
    "    \"Weight\":\"weight\",\n",
    "    \"Body condition score \":\"body_condition_score\",\n",
    "    \"Temperature \":\"temperature\",\n",
    "    \"Heart rate\":\"heart_rate\",\n",
    "    \"Milk Yield\" : \"milk_yield\",\n",
    "    \"Disease\":\"disease\"\n",
    "})\n",
    "dataframe"
   ]
  },
  {
   "cell_type": "code",
   "execution_count": 70,
   "metadata": {},
   "outputs": [],
   "source": [
    "dataframe = dataframe.drop([\"id\"], axis=1)"
   ]
  },
  {
   "cell_type": "code",
   "execution_count": 71,
   "metadata": {},
   "outputs": [
    {
     "data": {
      "text/html": [
       "<div>\n",
       "<style scoped>\n",
       "    .dataframe tbody tr th:only-of-type {\n",
       "        vertical-align: middle;\n",
       "    }\n",
       "\n",
       "    .dataframe tbody tr th {\n",
       "        vertical-align: top;\n",
       "    }\n",
       "\n",
       "    .dataframe thead th {\n",
       "        text-align: right;\n",
       "    }\n",
       "</style>\n",
       "<table border=\"1\" class=\"dataframe\">\n",
       "  <thead>\n",
       "    <tr style=\"text-align: right;\">\n",
       "      <th></th>\n",
       "      <th>age</th>\n",
       "      <th>weight</th>\n",
       "      <th>body_condition_score</th>\n",
       "      <th>temperature</th>\n",
       "      <th>heart_rate</th>\n",
       "      <th>milk_yield</th>\n",
       "      <th>disease</th>\n",
       "    </tr>\n",
       "  </thead>\n",
       "  <tbody>\n",
       "    <tr>\n",
       "      <th>0</th>\n",
       "      <td>1</td>\n",
       "      <td>407</td>\n",
       "      <td>5</td>\n",
       "      <td>37.8</td>\n",
       "      <td>66</td>\n",
       "      <td>5.1</td>\n",
       "      <td>0</td>\n",
       "    </tr>\n",
       "    <tr>\n",
       "      <th>1</th>\n",
       "      <td>5</td>\n",
       "      <td>294</td>\n",
       "      <td>5</td>\n",
       "      <td>38.4</td>\n",
       "      <td>82</td>\n",
       "      <td>4.6</td>\n",
       "      <td>1</td>\n",
       "    </tr>\n",
       "    <tr>\n",
       "      <th>2</th>\n",
       "      <td>3</td>\n",
       "      <td>304</td>\n",
       "      <td>5</td>\n",
       "      <td>39.6</td>\n",
       "      <td>67</td>\n",
       "      <td>2.7</td>\n",
       "      <td>2</td>\n",
       "    </tr>\n",
       "    <tr>\n",
       "      <th>3</th>\n",
       "      <td>3</td>\n",
       "      <td>408</td>\n",
       "      <td>4</td>\n",
       "      <td>38.1</td>\n",
       "      <td>73</td>\n",
       "      <td>2.2</td>\n",
       "      <td>3</td>\n",
       "    </tr>\n",
       "    <tr>\n",
       "      <th>4</th>\n",
       "      <td>3</td>\n",
       "      <td>276</td>\n",
       "      <td>3</td>\n",
       "      <td>39.7</td>\n",
       "      <td>64</td>\n",
       "      <td>5.4</td>\n",
       "      <td>4</td>\n",
       "    </tr>\n",
       "    <tr>\n",
       "      <th>...</th>\n",
       "      <td>...</td>\n",
       "      <td>...</td>\n",
       "      <td>...</td>\n",
       "      <td>...</td>\n",
       "      <td>...</td>\n",
       "      <td>...</td>\n",
       "      <td>...</td>\n",
       "    </tr>\n",
       "    <tr>\n",
       "      <th>995</th>\n",
       "      <td>1</td>\n",
       "      <td>285</td>\n",
       "      <td>5</td>\n",
       "      <td>38.3</td>\n",
       "      <td>79</td>\n",
       "      <td>1.8</td>\n",
       "      <td>9</td>\n",
       "    </tr>\n",
       "    <tr>\n",
       "      <th>996</th>\n",
       "      <td>4</td>\n",
       "      <td>440</td>\n",
       "      <td>4</td>\n",
       "      <td>37.9</td>\n",
       "      <td>80</td>\n",
       "      <td>5.4</td>\n",
       "      <td>3</td>\n",
       "    </tr>\n",
       "    <tr>\n",
       "      <th>997</th>\n",
       "      <td>7</td>\n",
       "      <td>382</td>\n",
       "      <td>3</td>\n",
       "      <td>39.5</td>\n",
       "      <td>77</td>\n",
       "      <td>4.9</td>\n",
       "      <td>0</td>\n",
       "    </tr>\n",
       "    <tr>\n",
       "      <th>998</th>\n",
       "      <td>2</td>\n",
       "      <td>338</td>\n",
       "      <td>1</td>\n",
       "      <td>39.8</td>\n",
       "      <td>79</td>\n",
       "      <td>5.6</td>\n",
       "      <td>0</td>\n",
       "    </tr>\n",
       "    <tr>\n",
       "      <th>999</th>\n",
       "      <td>3</td>\n",
       "      <td>428</td>\n",
       "      <td>4</td>\n",
       "      <td>39.1</td>\n",
       "      <td>69</td>\n",
       "      <td>2.5</td>\n",
       "      <td>9</td>\n",
       "    </tr>\n",
       "  </tbody>\n",
       "</table>\n",
       "<p>2000 rows × 7 columns</p>\n",
       "</div>"
      ],
      "text/plain": [
       "     age  weight  body_condition_score  temperature  heart_rate  milk_yield  \\\n",
       "0      1     407                     5         37.8          66         5.1   \n",
       "1      5     294                     5         38.4          82         4.6   \n",
       "2      3     304                     5         39.6          67         2.7   \n",
       "3      3     408                     4         38.1          73         2.2   \n",
       "4      3     276                     3         39.7          64         5.4   \n",
       "..   ...     ...                   ...          ...         ...         ...   \n",
       "995    1     285                     5         38.3          79         1.8   \n",
       "996    4     440                     4         37.9          80         5.4   \n",
       "997    7     382                     3         39.5          77         4.9   \n",
       "998    2     338                     1         39.8          79         5.6   \n",
       "999    3     428                     4         39.1          69         2.5   \n",
       "\n",
       "     disease  \n",
       "0          0  \n",
       "1          1  \n",
       "2          2  \n",
       "3          3  \n",
       "4          4  \n",
       "..       ...  \n",
       "995        9  \n",
       "996        3  \n",
       "997        0  \n",
       "998        0  \n",
       "999        9  \n",
       "\n",
       "[2000 rows x 7 columns]"
      ]
     },
     "execution_count": 71,
     "metadata": {},
     "output_type": "execute_result"
    }
   ],
   "source": [
    "dataframe"
   ]
  },
  {
   "cell_type": "code",
   "execution_count": 72,
   "metadata": {},
   "outputs": [
    {
     "data": {
      "text/plain": [
       "Index(['age', 'weight', 'body_condition_score', 'temperature', 'heart_rate',\n",
       "       'milk_yield', 'disease'],\n",
       "      dtype='object')"
      ]
     },
     "execution_count": 72,
     "metadata": {},
     "output_type": "execute_result"
    }
   ],
   "source": [
    "dataframe.columns"
   ]
  },
  {
   "cell_type": "code",
   "execution_count": 93,
   "metadata": {},
   "outputs": [],
   "source": [
    "y = dataframe[\"disease\"]\n",
    "x = dataframe[[\"age\",\"weight\",\"body_condition_score\",\"temperature\",\"heart_rate\",\"milk_yield\"]]"
   ]
  },
  {
   "cell_type": "code",
   "execution_count": 94,
   "metadata": {},
   "outputs": [],
   "source": [
    "from sklearn.model_selection import train_test_split\n",
    "\n",
    "X_train,X_test,y_train,y_test=train_test_split(x,y,random_state=0)"
   ]
  },
  {
   "cell_type": "code",
   "execution_count": 101,
   "metadata": {},
   "outputs": [],
   "source": [
    "from sklearn.tree import DecisionTreeClassifier # Import Decision Tree Classifier\n",
    "clf = DecisionTreeClassifier()\n",
    "\n",
    "# Train Decision Tree Classifer\n",
    "clf = clf.fit(x, y)"
   ]
  },
  {
   "cell_type": "code",
   "execution_count": 102,
   "metadata": {},
   "outputs": [],
   "source": [
    "from sklearn.metrics import accuracy_score"
   ]
  },
  {
   "cell_type": "code",
   "execution_count": 103,
   "metadata": {},
   "outputs": [
    {
     "name": "stdout",
     "output_type": "stream",
     "text": [
      "Training Accuracy:  1.0\n",
      "Test Accuracy:  1.0\n"
     ]
    }
   ],
   "source": [
    "y_pred_class = clf.predict(X_test)\n",
    "\n",
    "print(\"Training Accuracy: \",clf.score(X_train,y_train))\n",
    "print(\"Test Accuracy: \",accuracy_score(y_test,y_pred_class,normalize=True))"
   ]
  },
  {
   "cell_type": "code",
   "execution_count": 98,
   "metadata": {},
   "outputs": [],
   "source": [
    "import sklearn.metrics\n",
    "import sklearn"
   ]
  },
  {
   "cell_type": "code",
   "execution_count": 99,
   "metadata": {},
   "outputs": [
    {
     "name": "stdout",
     "output_type": "stream",
     "text": [
      "              precision    recall  f1-score   support\n",
      "\n",
      "           0       0.08      0.08      0.08        37\n",
      "           1       0.14      0.11      0.12        44\n",
      "           2       0.02      0.02      0.02        46\n",
      "           3       0.13      0.11      0.12        36\n",
      "           4       0.06      0.05      0.05        41\n",
      "           5       0.12      0.11      0.11        37\n",
      "           6       0.18      0.15      0.17        39\n",
      "           7       0.00      0.00      0.00        23\n",
      "           8       0.03      0.03      0.03        29\n",
      "           9       0.08      0.08      0.08        39\n",
      "          10       0.06      0.07      0.07        27\n",
      "          11       0.09      0.08      0.09        38\n",
      "          12       0.11      0.14      0.12        36\n",
      "          13       0.09      0.14      0.11        28\n",
      "\n",
      "    accuracy                           0.09       500\n",
      "   macro avg       0.09      0.08      0.08       500\n",
      "weighted avg       0.09      0.09      0.09       500\n",
      "\n"
     ]
    }
   ],
   "source": [
    "print(sklearn.metrics.classification_report(y_test, y_pred_class))"
   ]
  },
  {
   "cell_type": "code",
   "execution_count": 100,
   "metadata": {},
   "outputs": [
    {
     "data": {
      "text/plain": [
       "array([[3, 5, 4, 2, 0, 0, 3, 2, 3, 2, 3, 2, 3, 5],\n",
       "       [3, 5, 5, 3, 3, 2, 3, 2, 4, 1, 3, 2, 5, 3],\n",
       "       [4, 5, 1, 3, 2, 4, 1, 1, 4, 4, 3, 3, 4, 7],\n",
       "       [3, 3, 5, 4, 3, 2, 0, 3, 2, 3, 3, 3, 2, 0],\n",
       "       [1, 2, 2, 2, 2, 7, 1, 1, 4, 3, 6, 3, 3, 4],\n",
       "       [0, 2, 3, 2, 2, 4, 3, 3, 3, 3, 1, 5, 2, 4],\n",
       "       [3, 2, 3, 4, 2, 3, 6, 2, 0, 4, 2, 2, 4, 2],\n",
       "       [4, 2, 1, 1, 1, 0, 3, 0, 3, 3, 1, 0, 3, 1],\n",
       "       [1, 4, 4, 3, 0, 0, 1, 3, 1, 0, 3, 2, 2, 5],\n",
       "       [3, 2, 4, 2, 4, 5, 1, 3, 1, 3, 1, 1, 7, 2],\n",
       "       [2, 0, 1, 1, 4, 1, 5, 1, 1, 4, 2, 2, 2, 1],\n",
       "       [4, 1, 4, 0, 4, 2, 2, 3, 4, 2, 0, 3, 1, 8],\n",
       "       [7, 1, 1, 2, 4, 3, 1, 1, 1, 3, 3, 3, 5, 1],\n",
       "       [0, 3, 3, 1, 2, 1, 3, 1, 2, 2, 1, 1, 4, 4]])"
      ]
     },
     "execution_count": 100,
     "metadata": {},
     "output_type": "execute_result"
    }
   ],
   "source": [
    "y_pred = clf.predict(X_test )\n",
    "y_true=y_test\n",
    "\n",
    "\n",
    "from sklearn.metrics import confusion_matrix\n",
    "cm=confusion_matrix(y_true,y_pred)\n",
    "cm"
   ]
  },
  {
   "cell_type": "code",
   "execution_count": 83,
   "metadata": {},
   "outputs": [],
   "source": [
    "dataframe.to_csv('/home/ravikumar/freelance/machine_learning/cattle_health/dataset/dataset_final.csv', index=False)"
   ]
  },
  {
   "cell_type": "code",
   "execution_count": 87,
   "metadata": {},
   "outputs": [
    {
     "data": {
      "text/plain": [
       "array([ 0,  1,  2,  3,  4,  5,  6,  7,  8,  9, 10, 11, 12, 13])"
      ]
     },
     "execution_count": 87,
     "metadata": {},
     "output_type": "execute_result"
    }
   ],
   "source": [
    "dataframe[\"disease\"].unique()"
   ]
  },
  {
   "cell_type": "code",
   "execution_count": 104,
   "metadata": {},
   "outputs": [],
   "source": [
    "dataframe = dataframe.sample(frac=1, random_state=42)"
   ]
  },
  {
   "cell_type": "code",
   "execution_count": 1,
   "metadata": {},
   "outputs": [],
   "source": [
    "\n",
    "import pandas as pd"
   ]
  },
  {
   "cell_type": "code",
   "execution_count": null,
   "metadata": {},
   "outputs": [],
   "source": []
  },
  {
   "cell_type": "code",
   "execution_count": 2,
   "metadata": {},
   "outputs": [
    {
     "data": {
      "text/html": [
       "<div>\n",
       "<style scoped>\n",
       "    .dataframe tbody tr th:only-of-type {\n",
       "        vertical-align: middle;\n",
       "    }\n",
       "\n",
       "    .dataframe tbody tr th {\n",
       "        vertical-align: top;\n",
       "    }\n",
       "\n",
       "    .dataframe thead th {\n",
       "        text-align: right;\n",
       "    }\n",
       "</style>\n",
       "<table border=\"1\" class=\"dataframe\">\n",
       "  <thead>\n",
       "    <tr style=\"text-align: right;\">\n",
       "      <th></th>\n",
       "      <th>age</th>\n",
       "      <th>weight</th>\n",
       "      <th>body_condition_score</th>\n",
       "      <th>temperature</th>\n",
       "      <th>heart_rate</th>\n",
       "      <th>milk_yield</th>\n",
       "      <th>disease</th>\n",
       "    </tr>\n",
       "  </thead>\n",
       "  <tbody>\n",
       "    <tr>\n",
       "      <th>0</th>\n",
       "      <td>2</td>\n",
       "      <td>391</td>\n",
       "      <td>4</td>\n",
       "      <td>39.0</td>\n",
       "      <td>63</td>\n",
       "      <td>4.8</td>\n",
       "      <td>3</td>\n",
       "    </tr>\n",
       "    <tr>\n",
       "      <th>1</th>\n",
       "      <td>1</td>\n",
       "      <td>251</td>\n",
       "      <td>2</td>\n",
       "      <td>39.3</td>\n",
       "      <td>73</td>\n",
       "      <td>4.5</td>\n",
       "      <td>10</td>\n",
       "    </tr>\n",
       "    <tr>\n",
       "      <th>2</th>\n",
       "      <td>6</td>\n",
       "      <td>321</td>\n",
       "      <td>3</td>\n",
       "      <td>37.6</td>\n",
       "      <td>89</td>\n",
       "      <td>1.5</td>\n",
       "      <td>0</td>\n",
       "    </tr>\n",
       "    <tr>\n",
       "      <th>3</th>\n",
       "      <td>2</td>\n",
       "      <td>403</td>\n",
       "      <td>2</td>\n",
       "      <td>38.9</td>\n",
       "      <td>68</td>\n",
       "      <td>5.1</td>\n",
       "      <td>2</td>\n",
       "    </tr>\n",
       "    <tr>\n",
       "      <th>4</th>\n",
       "      <td>5</td>\n",
       "      <td>331</td>\n",
       "      <td>5</td>\n",
       "      <td>38.2</td>\n",
       "      <td>52</td>\n",
       "      <td>1.9</td>\n",
       "      <td>11</td>\n",
       "    </tr>\n",
       "  </tbody>\n",
       "</table>\n",
       "</div>"
      ],
      "text/plain": [
       "   age  weight  body_condition_score  temperature  heart_rate  milk_yield  \\\n",
       "0    2     391                     4         39.0          63         4.8   \n",
       "1    1     251                     2         39.3          73         4.5   \n",
       "2    6     321                     3         37.6          89         1.5   \n",
       "3    2     403                     2         38.9          68         5.1   \n",
       "4    5     331                     5         38.2          52         1.9   \n",
       "\n",
       "   disease  \n",
       "0        3  \n",
       "1       10  \n",
       "2        0  \n",
       "3        2  \n",
       "4       11  "
      ]
     },
     "execution_count": 2,
     "metadata": {},
     "output_type": "execute_result"
    }
   ],
   "source": [
    "pd.read_csv(\"/home/ravikumar/freelance/machine_learning/cattle_health/dataset/dataset_final.csv\").head()"
   ]
  },
  {
   "cell_type": "code",
   "execution_count": null,
   "metadata": {},
   "outputs": [],
   "source": [
    "MAPPING = {\"0\":'Bovine Respiratory Disease',\n",
    " \"1\":'Bovine Viral Diarrhea',\n",
    " \"2\":'Foot and Mouth Disease',\n",
    " \"3\":'Bovine Tuberculosis',\n",
    " \"4\":'Ringworm',\n",
    " \"5\":'Healthy',\n",
    " \"6\":'Brucellosis',\n",
    " \"7\":'Anthrax',\n",
    " \"8\":'Leptospirosis',\n",
    " \"9\":\"Johne's Disease\",\n",
    " \"10\":'Salmonella',\n",
    " \"11\":'Mastitis',\n",
    " \"12\":'Infectious Bovine Rhinotracheitis',\n",
    " \"13\": 'Blue Tongue'}"
   ]
  }
 ],
 "metadata": {
  "kernelspec": {
   "display_name": "pytorch_p39",
   "language": "python",
   "name": "python3"
  },
  "language_info": {
   "codemirror_mode": {
    "name": "ipython",
    "version": 3
   },
   "file_extension": ".py",
   "mimetype": "text/x-python",
   "name": "python",
   "nbconvert_exporter": "python",
   "pygments_lexer": "ipython3",
   "version": "3.9.16"
  },
  "orig_nbformat": 4
 },
 "nbformat": 4,
 "nbformat_minor": 2
}
